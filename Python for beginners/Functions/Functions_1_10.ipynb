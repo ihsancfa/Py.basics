{
 "cells": [
  {
   "cell_type": "markdown",
   "metadata": {},
   "source": [
    "### 1"
   ]
  },
  {
   "cell_type": "code",
   "execution_count": 3,
   "metadata": {},
   "outputs": [
    {
     "name": "stdout",
     "output_type": "stream",
     "text": [
      "My name  is  Ihsan and i am  25 years old\n"
     ]
    }
   ],
   "source": [
    "age = 25\n",
    "name = \"Ihsan\"\n",
    "\n",
    "print(\"My name  is \",name,\"and i am \", age , \"years old\")"
   ]
  },
  {
   "cell_type": "code",
   "execution_count": 5,
   "metadata": {},
   "outputs": [
    {
     "name": "stdout",
     "output_type": "stream",
     "text": [
      "My name  is |Irfan|and i am |24|years old\n"
     ]
    }
   ],
   "source": [
    "age = 24\n",
    "name = \"Irfan\"\n",
    "\n",
    "print(\"My name  is \",name,\"and i am \", age , \"years old\",sep=\"|\") # sep \",\""
   ]
  },
  {
   "cell_type": "code",
   "execution_count": 7,
   "metadata": {},
   "outputs": [
    {
     "name": "stdout",
     "output_type": "stream",
     "text": [
      "I am Financial accountant|Grace valley educational institutions\n"
     ]
    }
   ],
   "source": [
    "position = \"Financial accountant\"\n",
    "Company = \"Grace valley educational institutions\"\n",
    "\n",
    "print(\"I am\",position,end=\"|\")\n",
    "print(Company)"
   ]
  },
  {
   "cell_type": "markdown",
   "metadata": {},
   "source": [
    "#### 2 . help function"
   ]
  },
  {
   "cell_type": "code",
   "execution_count": 12,
   "metadata": {},
   "outputs": [
    {
     "data": {
      "text/plain": [
       "'\\nhelp() function in Python is used to get documentation or information about a particular module, class, function, or object. \\nIt’s very useful for exploring Python libraries and understanding how to use them.\\n'"
      ]
     },
     "execution_count": 12,
     "metadata": {},
     "output_type": "execute_result"
    }
   ],
   "source": [
    "# help(print)\n",
    "'''\n",
    "help() function in Python is used to get documentation or information about a particular module, class, function, or object. \n",
    "It’s very useful for exploring Python libraries and understanding how to use them.\n",
    "\n",
    "'''"
   ]
  },
  {
   "cell_type": "code",
   "execution_count": 11,
   "metadata": {},
   "outputs": [],
   "source": [
    "def test_func(a,b):\n",
    "    \"\"\"\n",
    "    a : value 1\n",
    "    b : value 2\n",
    "\n",
    "    returns : int \n",
    "    \"\"\"\n",
    "    return a + b\n"
   ]
  },
  {
   "cell_type": "markdown",
   "metadata": {},
   "source": [
    "### 3. range"
   ]
  },
  {
   "cell_type": "code",
   "execution_count": 14,
   "metadata": {},
   "outputs": [
    {
     "name": "stdout",
     "output_type": "stream",
     "text": [
      "range(0, 10)\n",
      "[0, 1, 2, 3, 4, 5, 6, 7, 8, 9]\n"
     ]
    }
   ],
   "source": [
    "x = range(10)\n",
    "\n",
    "print(x)\n",
    "print(list(x))"
   ]
  },
  {
   "cell_type": "code",
   "execution_count": 16,
   "metadata": {},
   "outputs": [
    {
     "name": "stdout",
     "output_type": "stream",
     "text": [
      "range(2, 10)\n",
      "[2, 3, 4, 5, 6, 7, 8, 9]\n"
     ]
    }
   ],
   "source": [
    "y = range(2,10) # start 2 end 10\n",
    "\n",
    "print(y)\n",
    "print(list(y))"
   ]
  },
  {
   "cell_type": "code",
   "execution_count": 17,
   "metadata": {},
   "outputs": [
    {
     "name": "stdout",
     "output_type": "stream",
     "text": [
      "[2, 5, 8, 11, 14, 17, 20, 23, 26, 29]\n"
     ]
    }
   ],
   "source": [
    "z = range(2,30,3) # start 2 end 30 , step 3\n",
    "\n",
    "\n",
    "print(list(z))"
   ]
  },
  {
   "cell_type": "markdown",
   "metadata": {},
   "source": [
    "### 4 . map"
   ]
  },
  {
   "cell_type": "code",
   "execution_count": 22,
   "metadata": {},
   "outputs": [
    {
     "name": "stdout",
     "output_type": "stream",
     "text": [
      "<map object at 0x000001CC8C701090>\n",
      "[3, 7, 7, 18]\n"
     ]
    }
   ],
   "source": [
    "string = [\"I'm\" , \"Finance\" , \"Fintech\" , \"Finance automation\"]\n",
    "lengths = map(len,string)\n",
    "\n",
    "print(lengths) # no view\n",
    "print(list(lengths))"
   ]
  },
  {
   "cell_type": "code",
   "execution_count": 24,
   "metadata": {},
   "outputs": [
    {
     "name": "stdout",
     "output_type": "stream",
     "text": [
      "[\"I'ms\", 'Finances', 'Fintechs', 'Finance automations']\n"
     ]
    }
   ],
   "source": [
    "string = [\"I'm\" , \"Finance\" , \"Fintech\" , \"Finance automation\"]\n",
    "lengths = map(lambda x: x + \"s\",string)\n",
    "\n",
    "\n",
    "print(list(lengths))"
   ]
  },
  {
   "cell_type": "code",
   "execution_count": 27,
   "metadata": {},
   "outputs": [
    {
     "name": "stdout",
     "output_type": "stream",
     "text": [
      "[\"I'ms\", 'Finances', 'Fintechs', 'Finance automations']\n"
     ]
    }
   ],
   "source": [
    "def add_s (string):\n",
    "    return string + \"s\"\n",
    "\n",
    "lengths = map(add_s,string) # this add s  , same above lamda\n",
    "\n",
    "print(list(lengths))"
   ]
  },
  {
   "cell_type": "markdown",
   "metadata": {},
   "source": [
    "### 5 . filter"
   ]
  },
  {
   "cell_type": "code",
   "execution_count": 30,
   "metadata": {},
   "outputs": [
    {
     "name": "stdout",
     "output_type": "stream",
     "text": [
      "[False, True, True, True]\n"
     ]
    }
   ],
   "source": [
    "def longerthan_4 (string):\n",
    "    return len(string) > 4\n",
    "\n",
    "string = [\"I'm\" , \"Finance\" , \"Fintech\" , \"Finance automation\"]\n",
    "filterd = map(longerthan_4,string)\n",
    "\n",
    "print(list(filterd))"
   ]
  },
  {
   "cell_type": "code",
   "execution_count": 33,
   "metadata": {},
   "outputs": [
    {
     "name": "stdout",
     "output_type": "stream",
     "text": [
      "[False, True, True, True]\n"
     ]
    }
   ],
   "source": [
    "string = [\"I'm\" , \"Finance\" , \"Fintech\" , \"Finance automation\"]\n",
    "filterd = map(lambda x: len(x) > 4 ,string)\n",
    "\n",
    "print(list(filterd))"
   ]
  },
  {
   "cell_type": "markdown",
   "metadata": {},
   "source": [
    "### 6  sum"
   ]
  },
  {
   "cell_type": "code",
   "execution_count": 36,
   "metadata": {},
   "outputs": [
    {
     "name": "stdout",
     "output_type": "stream",
     "text": [
      "485.7\n"
     ]
    }
   ],
   "source": [
    "numbers = {25,35,45,85,69,75.8,69.8,77.5,3.6}\n",
    "\n",
    "print(sum(numbers))"
   ]
  },
  {
   "cell_type": "code",
   "execution_count": 39,
   "metadata": {},
   "outputs": [
    {
     "name": "stdout",
     "output_type": "stream",
     "text": [
      "495.7\n",
      "385.7\n"
     ]
    }
   ],
   "source": [
    "numbers = {25,35,45,85,69,75.8,69.8,77.5,3.6}\n",
    "\n",
    "print(sum(numbers,start=10)) # +10\n",
    "print(sum(numbers,start=-100)) # -100"
   ]
  },
  {
   "cell_type": "markdown",
   "metadata": {},
   "source": [
    "#### 7 . sorted"
   ]
  },
  {
   "cell_type": "code",
   "execution_count": 41,
   "metadata": {},
   "outputs": [
    {
     "name": "stdout",
     "output_type": "stream",
     "text": [
      "[-12, -5, -2, 1, 5, 7, 9, 25, 36]\n"
     ]
    }
   ],
   "source": [
    "numbers = [5,9,1,7,-5,-2,-12,25,36]\n",
    "sorted_number = sorted(numbers)\n",
    "\n",
    "print(sorted_number)"
   ]
  },
  {
   "cell_type": "code",
   "execution_count": 42,
   "metadata": {},
   "outputs": [
    {
     "name": "stdout",
     "output_type": "stream",
     "text": [
      "[36, 25, 9, 7, 5, 1, -2, -5, -12]\n"
     ]
    }
   ],
   "source": [
    "numbers = [5,9,1,7,-5,-2,-12,25,36]\n",
    "sorted_number = sorted(numbers,reverse=True)\n",
    "\n",
    "print(sorted_number)"
   ]
  },
  {
   "cell_type": "code",
   "execution_count": 45,
   "metadata": {},
   "outputs": [
    {
     "name": "stdout",
     "output_type": "stream",
     "text": [
      "[{'name': 'Machine_learning', 'age': 10}, {'name': 'pyja', 'age': 15}, {'name': 'Pythone_django', 'age': 30}, {'name': 'flask', 'age': 40}]\n",
      "[{'name': 'flask', 'age': 40}, {'name': 'Pythone_django', 'age': 30}, {'name': 'pyja', 'age': 15}, {'name': 'Machine_learning', 'age': 10}]\n"
     ]
    }
   ],
   "source": [
    "people = [\n",
    "    {\"name\" : \"Pythone_django\",\"age\":30},\n",
    "    {\"name\" : \"flask\",\"age\":40},\n",
    "    {\"name\" : \"Machine_learning\",\"age\":10},\n",
    "    {\"name\" : \"pyja\",\"age\":15},\n",
    "]\n",
    "sorted_people = sorted(people,key=lambda person: person[\"age\"])\n",
    "sorted_people_r = sorted(people,key=lambda person: person[\"age\"],reverse=True)\n",
    "\n",
    "print(sorted_people)\n",
    "print(sorted_people_r)"
   ]
  },
  {
   "cell_type": "markdown",
   "metadata": {},
   "source": [
    "#### 8 . Enumerate"
   ]
  },
  {
   "cell_type": "code",
   "execution_count": 48,
   "metadata": {},
   "outputs": [
    {
     "name": "stdout",
     "output_type": "stream",
     "text": [
      "1 . Python_developper\n",
      "2 . Machine_learning\n",
      "3 . Deep_learning\n",
      "4 . Advanced_datastructure & Algorithum\n"
     ]
    }
   ],
   "source": [
    "tasks = [\"Python_developper\",\"Machine_learning\",\"Deep_learning\",\"Advanced_datastructure & Algorithum\"]\n",
    "\n",
    "for index in range(len(tasks)):# sequence of numbers from 0 to 3 (0-based indexing (4)\n",
    "    task = tasks[index] # index = 0, task = tasks[0] → \"Python_developper\"\n",
    "    print(f\"{index + 1} . {task}\") # f-string: Used for string interpolation.,{} placeholders are replaced with the values of the expressions inside them."
   ]
  },
  {
   "cell_type": "code",
   "execution_count": 51,
   "metadata": {},
   "outputs": [
    {
     "name": "stdout",
     "output_type": "stream",
     "text": [
      "1 . Python_developper\n",
      "2 . Machine_learning\n",
      "3 . Deep_learning\n",
      "4 . Advanced_datastructure & Algorithum\n",
      "[(0, 'Python_developper'), (1, 'Machine_learning'), (2, 'Deep_learning'), (3, 'Advanced_datastructure & Algorithum')]\n"
     ]
    }
   ],
   "source": [
    "tasks = [\"Python_developper\",\"Machine_learning\",\"Deep_learning\",\"Advanced_datastructure & Algorithum\"]\n",
    "\n",
    "for index , task in enumerate(tasks):\n",
    "    print(f\"{index + 1} . {task}\")\n",
    "\n",
    "enumerate(tasks)\n",
    "\n",
    "print(list(enumerate(tasks)))"
   ]
  },
  {
   "cell_type": "markdown",
   "metadata": {},
   "source": [
    "### 9 . combine"
   ]
  },
  {
   "cell_type": "code",
   "execution_count": 55,
   "metadata": {},
   "outputs": [
    {
     "name": "stdout",
     "output_type": "stream",
     "text": [
      "dhango is 10 years old\n",
      "flask is 15 years old\n",
      "java is 25 years old\n",
      "c# is 5 years old\n",
      "c++ is 30 years old\n"
     ]
    }
   ],
   "source": [
    "names = [\"dhango\",\"flask\",\"java\",\"c#\",\"c++\"]\n",
    "ages = [10,15,25,5,30]\n",
    "\n",
    "for index in range (min(len(names),len(ages))): # min(len(names), len(ages)) evaluates to the smaller of the two lengths , both are same 5\n",
    "    name = names[index]\n",
    "    age = ages[index]\n",
    "\n",
    "    print(f\"{name} is {age} years old\")\n"
   ]
  },
  {
   "cell_type": "code",
   "execution_count": 60,
   "metadata": {},
   "outputs": [
    {
     "name": "stdout",
     "output_type": "stream",
     "text": [
      "[('dhango', 10), ('flask', 15), ('java', 25), ('c#', 5), ('c++', 30)]\n",
      "dhango is 10 years old\n",
      "flask is 15 years old\n",
      "java is 25 years old\n",
      "c# is 5 years old\n",
      "c++ is 30 years old\n"
     ]
    }
   ],
   "source": [
    "names = [\"dhango\",\"flask\",\"java\",\"c#\",\"c++\"]\n",
    "ages = [10,15,25,5,30]\n",
    "test = [\"yes\",\"no\",\"yes\",\"no\",\"no\"]\n",
    "\n",
    "combined = list(zip(names,ages)) # zip() function pairs elements from two or more iterables , (\"dhango\", 10), (\"flask\", 15),\n",
    "\n",
    "print(combined)\n",
    "\n",
    "for name , age in combined:\n",
    "    print(f\"{name} is {age} years old\")"
   ]
  },
  {
   "cell_type": "markdown",
   "metadata": {},
   "source": [
    "### 10 . Open"
   ]
  },
  {
   "cell_type": "code",
   "execution_count": 62,
   "metadata": {},
   "outputs": [],
   "source": [
    "file = open(\"text.txt\",\"w\") # r-read, w-write,a-append\n",
    "file.write(\"hello world \\n my name is tim \")\n",
    "file.close()"
   ]
  },
  {
   "cell_type": "code",
   "execution_count": 64,
   "metadata": {},
   "outputs": [],
   "source": [
    "with open (\"text.txt\",\"a\") as file: # with statement is exited, the file is automatically closed, even if an error occurs.\n",
    "\n",
    "    file.write(\"new_addition\")"
   ]
  },
  {
   "cell_type": "code",
   "execution_count": null,
   "metadata": {},
   "outputs": [],
   "source": []
  }
 ],
 "metadata": {
  "kernelspec": {
   "display_name": "base",
   "language": "python",
   "name": "python3"
  },
  "language_info": {
   "codemirror_mode": {
    "name": "ipython",
    "version": 3
   },
   "file_extension": ".py",
   "mimetype": "text/x-python",
   "name": "python",
   "nbconvert_exporter": "python",
   "pygments_lexer": "ipython3",
   "version": "3.12.4"
  }
 },
 "nbformat": 4,
 "nbformat_minor": 2
}
