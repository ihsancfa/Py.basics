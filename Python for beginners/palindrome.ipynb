{
 "cells": [
  {
   "cell_type": "code",
   "execution_count": null,
   "metadata": {},
   "outputs": [],
   "source": [
    "\n",
    "@anindiansquirrel\n",
    "1 day ago (edited)\n",
    "Two Pointer Approach \n",
    "\n",
    "\n",
    "def palindrome(s):\n",
    "    length = len(s)\n",
    "    if length < 2:\n",
    "        return True\n",
    "    left = 0\n",
    "    right = length - 1\n",
    "    while left < right:\n",
    "        if s[left] != s[right]:\n",
    "            return False\n",
    "        left += 1\n",
    "        right -= 1\n",
    "    return True\n",
    "\n",
    "\n",
    "\n"
   ]
  },
  {
   "cell_type": "markdown",
   "metadata": {},
   "source": [
    "Explanation:\n",
    "\n",
    "\n",
    "Input: A string s.\n",
    "Check if the string length is less than 2:\n",
    "If true, return True (as a string of length 0 or 1 is always a palindrome).\n",
    "Initialize two pointers:\n",
    "left pointer at the start of the string.\n",
    "right pointer at the end of the string.\n",
    "While left is less than right:\n",
    "Compare the characters at left and right.\n",
    "If they are not equal, return False (not a palindrome).\n",
    "Move left forward (increment by 1).\n",
    "Move right backward (decrement by 1).\n",
    "Return True when all comparisons pass (i.e., the string is a palindrome).\n",
    "\n",
    "\n",
    "An additional question for you guys -> try to find a solution to check if a number is a palindrome without converting it to a string"
   ]
  },
  {
   "cell_type": "markdown",
   "metadata": {},
   "source": []
  }
 ],
 "metadata": {
  "kernelspec": {
   "display_name": "base",
   "language": "python",
   "name": "python3"
  },
  "language_info": {
   "name": "python",
   "version": "3.12.4"
  }
 },
 "nbformat": 4,
 "nbformat_minor": 2
}
