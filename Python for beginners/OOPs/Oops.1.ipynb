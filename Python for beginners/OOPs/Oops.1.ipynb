{
 "cells": [
  {
   "cell_type": "markdown",
   "metadata": {},
   "source": [
    "# 1"
   ]
  },
  {
   "cell_type": "code",
   "execution_count": 1,
   "metadata": {},
   "outputs": [
    {
     "name": "stdout",
     "output_type": "stream",
     "text": [
      "30\n",
      "30\n"
     ]
    }
   ],
   "source": [
    "class Employee:\n",
    "    def print_age(self): # define methods inside a class, you need to use self\n",
    "        print(self.age)\n",
    "\n",
    "emp = Employee()\n",
    "emp.age = 30\n",
    "emp.print_age()\n",
    "\n",
    "Employee.print_age(emp)\n"
   ]
  },
  {
   "cell_type": "markdown",
   "metadata": {},
   "source": [
    "# 2"
   ]
  },
  {
   "cell_type": "code",
   "execution_count": 2,
   "metadata": {},
   "outputs": [
    {
     "name": "stdout",
     "output_type": "stream",
     "text": [
      "i5 , 16GB , 1Tb\n",
      "i5 , 16GB , 1Tb\n"
     ]
    }
   ],
   "source": [
    "class computer:\n",
    "    def config(self): # self constructor , initiolise variable\n",
    "            print(\"i5 , 16GB , 1Tb\")\n",
    "\n",
    "com1 = computer()\n",
    "com2 = computer()\n",
    "#print(type(com1))\n",
    "\n",
    "computer.config(com1)\n",
    "computer.config(com2) # same data in config"
   ]
  },
  {
   "cell_type": "code",
   "execution_count": 3,
   "metadata": {},
   "outputs": [
    {
     "name": "stdout",
     "output_type": "stream",
     "text": [
      "i5 , 16GB , 1Tb\n",
      "i5 , 16GB , 1Tb\n"
     ]
    }
   ],
   "source": [
    "com1.config()\n",
    "com2.config()"
   ]
  },
  {
   "cell_type": "markdown",
   "metadata": {},
   "source": [
    "### 2 .1  __init__  "
   ]
  },
  {
   "cell_type": "markdown",
   "metadata": {},
   "source": [
    "-__init__ special method used to initialize a class,  define the attributes of the class and set their initial values"
   ]
  },
  {
   "cell_type": "code",
   "execution_count": 4,
   "metadata": {},
   "outputs": [
    {
     "name": "stdout",
     "output_type": "stream",
     "text": [
      "Smartphone Config is 14PRO Ram is 32 Rom is 800\n"
     ]
    }
   ],
   "source": [
    "class smartphone:\n",
    "\n",
    "    def __init__(self,model,ram,rom):\n",
    "        self.model = model\n",
    "        self.ram = ram\n",
    "        self.rom = rom\n",
    "\n",
    "    def config(self):\n",
    "        print(\"Smartphone Config is\",self.model,\"Ram is\",self.ram,\"Rom is\",self.rom)\n",
    "\n",
    "Smart1 = smartphone('14PRO',32,800)\n",
    "Smart1.config()"
   ]
  },
  {
   "cell_type": "markdown",
   "metadata": {},
   "source": [
    "### 2.2 Memory id"
   ]
  },
  {
   "cell_type": "code",
   "execution_count": 5,
   "metadata": {},
   "outputs": [
    {
     "name": "stdout",
     "output_type": "stream",
     "text": [
      "2407582444064\n",
      "2407583823152\n"
     ]
    }
   ],
   "source": [
    "class furniture :\n",
    "    pass\n",
    "\n",
    "\n",
    "f1 = furniture()\n",
    "f2 = furniture()\n",
    "\n",
    "print(id(f1)) # address of memory , store object in memory \n",
    "print(id(f2))"
   ]
  },
  {
   "cell_type": "markdown",
   "metadata": {},
   "source": [
    "## 2.3 object updation"
   ]
  },
  {
   "cell_type": "code",
   "execution_count": 6,
   "metadata": {},
   "outputs": [
    {
     "name": "stdout",
     "output_type": "stream",
     "text": [
      "Ihsan\n",
      "25\n",
      "Navin\n",
      "28\n",
      "updation -  (35, 'Navin')\n",
      "updation -  (35, 'Ihsan')\n"
     ]
    }
   ],
   "source": [
    "class students:\n",
    "\n",
    "    def __init__(self):\n",
    "        self.name = \"Navin\"\n",
    "        self.age = 28\n",
    "\n",
    "    def update (self):\n",
    "        self.age = 35\n",
    "        return self.age , self.name\n",
    "        \n",
    "\n",
    "\n",
    "s1 = students()\n",
    "s2 = students()\n",
    "\n",
    "s1.name = \"Ihsan\"\n",
    "s1.age = 25\n",
    "\n",
    "\n",
    "\n",
    "print(s1.name)\n",
    "print(s1.age)\n",
    "print(s2.name)\n",
    "print(s2.age)\n",
    "\n",
    "print(\"updation - \" , s2.update())\n",
    "print(\"updation - \" , s1.update())\n",
    "\n"
   ]
  },
  {
   "cell_type": "markdown",
   "metadata": {},
   "source": [
    "### 2.4 compare object"
   ]
  },
  {
   "cell_type": "code",
   "execution_count": 7,
   "metadata": {},
   "outputs": [
    {
     "name": "stdout",
     "output_type": "stream",
     "text": [
      "they are different\n",
      "-----------------------------------------------\n",
      "False\n",
      "-----------------------------------------------\n",
      "Navin\n",
      "30\n",
      "Navin\n",
      "28\n"
     ]
    }
   ],
   "source": [
    "class students:\n",
    "\n",
    "    def __init__(self):\n",
    "        self.name = \"Navin\"\n",
    "        self.age = 28\n",
    "\n",
    "    def compare (self,other):\n",
    "        if self.age ==  other.age:\n",
    "            return True\n",
    "        else:\n",
    "            return False\n",
    "       \n",
    "        \n",
    "\n",
    "\n",
    "s1 = students()\n",
    "s2 = students()\n",
    "\n",
    "s1.age = 30\n",
    "\n",
    "if s1.compare(s2):\n",
    "    print(\"they are same\")\n",
    "else:\n",
    "    print(\"they are different\")\n",
    "\n",
    "\n",
    "print(\"-----------------------------------------------\")\n",
    "\n",
    "print(s1.compare(s2))\n",
    "\n",
    "print(\"-----------------------------------------------\")\n",
    "\n",
    "print(s1.name)\n",
    "print(s1.age)\n",
    "print(s2.name)\n",
    "print(s2.age)\n",
    "\n",
    "\n",
    "\n"
   ]
  },
  {
   "cell_type": "code",
   "execution_count": 8,
   "metadata": {},
   "outputs": [
    {
     "name": "stdout",
     "output_type": "stream",
     "text": [
      "BMW 10 5\n",
      "BMW 10 5\n"
     ]
    }
   ],
   "source": [
    "class car :\n",
    "    wheel = 4 # class variable\n",
    "    def __init__(self):\n",
    "        self.mil = 10\n",
    "        self.company = \"BMW\" # instance variable\n",
    "\n",
    "car1 = car()\n",
    "car2 = car()\n",
    "\n",
    "car.wheel = 5\n",
    "\n",
    "print(car1.company,car1.mil,car1.wheel)\n",
    "print(car2.company,car2.mil,car2.wheel)\n",
    "\n"
   ]
  },
  {
   "cell_type": "markdown",
   "metadata": {},
   "source": [
    "#### 2.5   Types of methods in pythone\n"
   ]
  },
  {
   "cell_type": "code",
   "execution_count": 9,
   "metadata": {},
   "outputs": [
    {
     "name": "stdout",
     "output_type": "stream",
     "text": [
      "M1 is   55\n",
      "_________________\n",
      "66.0\n",
      "75.0\n"
     ]
    }
   ],
   "source": [
    "class students:\n",
    "\n",
    "    school = 'Gracevalley Public school'\n",
    "\n",
    "    def __init__ (self,M1,M2,M3):\n",
    "        self.M1 = M1\n",
    "        self.M2 = M2\n",
    "        self.M3 = M3\n",
    "\n",
    "    def avg (self):\n",
    "        return (self.M1 + self.M2 + self.M3 )/3\n",
    "\n",
    "    def Get_M1(self): # get only M1 mark\n",
    "        return self.M1\n",
    "\n",
    "    \n",
    "\n",
    "S1 = students(55,66,77)\n",
    "S2 = students(65,75,85)\n",
    "\n",
    "#S1.M1 = 99 # can change mark\n",
    "\n",
    "print(\"M1 is  \",S1.Get_M1())\n",
    "\n",
    "print(\"_________________\")\n",
    "\n",
    "print(S1.avg())\n",
    "print(S2.avg())\n"
   ]
  },
  {
   "cell_type": "code",
   "execution_count": 10,
   "metadata": {},
   "outputs": [
    {
     "name": "stdout",
     "output_type": "stream",
     "text": [
      "Accessing class_variable: I am a class variable\n"
     ]
    }
   ],
   "source": [
    "class MyClass:\n",
    "    class_variable = \"I am a class variable\"\n",
    "\n",
    "    @classmethod\n",
    "    def class_method(cls):\n",
    "        print(f\"Accessing class_variable: {cls.class_variable}\")\n",
    "\n",
    "# Usage\n",
    "MyClass.class_method()  # Access without creating an instance\n"
   ]
  },
  {
   "cell_type": "code",
   "execution_count": 11,
   "metadata": {},
   "outputs": [
    {
     "name": "stdout",
     "output_type": "stream",
     "text": [
      "Performing an operation with 10 and 20\n"
     ]
    }
   ],
   "source": [
    "class MyClass:\n",
    "    @staticmethod\n",
    "    def static_method(arg1, arg2):\n",
    "        print(f\"Performing an operation with {arg1} and {arg2}\")\n",
    "\n",
    "# Usage\n",
    "MyClass.static_method(10, 20)  # Call without creating an instance\n"
   ]
  },
  {
   "cell_type": "code",
   "execution_count": 12,
   "metadata": {},
   "outputs": [
    {
     "name": "stdout",
     "output_type": "stream",
     "text": [
      "___________________________________________\n",
      "Gracevalley Public school\n",
      "___________________________________________\n",
      "This is student class in grace valley\n",
      "___________________________________________\n",
      "66.0\n",
      "75.0\n",
      "___________________________________________\n"
     ]
    }
   ],
   "source": [
    "class students:\n",
    "\n",
    "    school = 'Gracevalley Public school'\n",
    "\n",
    "    def __init__ (self,M1,M2,M3):\n",
    "        self.M1 = M1\n",
    "        self.M2 = M2\n",
    "        self.M3 = M3\n",
    "\n",
    "    def avg (self):\n",
    "        return (self.M1 + self.M2 + self.M3 )/3\n",
    "\n",
    "    @classmethod\n",
    "\n",
    "    def Getschool(cls):\n",
    "        return cls.school\n",
    "\n",
    "    @staticmethod\n",
    "\n",
    "    def info():\n",
    "        return(\"This is student class in grace valley\")\n",
    "\n",
    "    \n",
    "\n",
    "S1 = students(55,66,77)\n",
    "S2 = students(65,75,85)\n",
    "\n",
    "print(\"___________________________________________\")\n",
    "print(S1.Getschool())\n",
    "print(\"___________________________________________\")\n",
    "print(S2.info())\n",
    "print(\"___________________________________________\")\n",
    "print(S1.avg())\n",
    "print(S2.avg())\n",
    "print(\"___________________________________________\")\n"
   ]
  },
  {
   "cell_type": "markdown",
   "metadata": {},
   "source": [
    "### 2.6  Inner class"
   ]
  },
  {
   "cell_type": "code",
   "execution_count": 13,
   "metadata": {},
   "outputs": [
    {
     "name": "stdout",
     "output_type": "stream",
     "text": [
      "('IHSAN', 1151) \n",
      " ('IRFAN', 1152)\n",
      "Mac \n",
      " ('Mac', 'i5', '16GB')\n"
     ]
    }
   ],
   "source": [
    "class student: #outer class\n",
    "    def __init__(self,Name,Roll_number):\n",
    "        self.Name = Name\n",
    "        self.Roll_number = Roll_number\n",
    "        self.lap = self.laptop()\n",
    "\n",
    "    def show (self):\n",
    "        return (self.Name , self.Roll_number)\n",
    "        self.lap.show()\n",
    "\n",
    "    class laptop:\n",
    "\n",
    "        def __init__ (self):\n",
    "            self.brand = \"Mac\"\n",
    "            self.cpu = \"i5\"\n",
    "            self.ram = \"16GB\"  \n",
    "\n",
    "        def show(self) :\n",
    "            return(self.brand,self.cpu,self.ram)\n",
    "\n",
    "S1 = student(\"IHSAN\", 1151)\n",
    "S2 = student(\"IRFAN\",1152)\n",
    "\n",
    "print(S1.show(),\"\\n\",S2.show())\n",
    "\n",
    "print(S1.lap.brand,\"\\n\",S2.lap.show())\n",
    "\n"
   ]
  },
  {
   "cell_type": "markdown",
   "metadata": {},
   "source": [
    "### 2.7 Inheritance"
   ]
  },
  {
   "cell_type": "code",
   "execution_count": 14,
   "metadata": {},
   "outputs": [
    {
     "name": "stdout",
     "output_type": "stream",
     "text": [
      "Feature_1_is working\n",
      "Feature_2_is working\n",
      "Feature_3_is working\n",
      "Feature_4_is working\n"
     ]
    }
   ],
   "source": [
    "class A: #1. single level inheritance\n",
    "    def Feature_1(self):\n",
    "        print(\"Feature_1_is working\")\n",
    "\n",
    "    def Feature_2(self):\n",
    "        print(\"Feature_2_is working\")\n",
    "\n",
    "class B:\n",
    "    def Feature_3(self):\n",
    "        print(\"Feature_3_is working\")\n",
    "\n",
    "    def Feature_4(self):\n",
    "        print(\"Feature_4_is working\")\n",
    "\n",
    "a1 = A()\n",
    "a1.Feature_1()\n",
    "a1.Feature_2()\n",
    "\n",
    "b1 = B()\n",
    "b1.Feature_3()\n",
    "b1.Feature_4()\n",
    "\n",
    "\n"
   ]
  },
  {
   "cell_type": "code",
   "execution_count": 15,
   "metadata": {},
   "outputs": [
    {
     "name": "stdout",
     "output_type": "stream",
     "text": [
      "Feature_1_is working\n",
      "Feature_2_is working\n",
      "Feature_3_is working\n",
      "Feature_4_is working\n",
      "Feature_5_is working\n",
      "Feature_6_is working\n"
     ]
    }
   ],
   "source": [
    "class A: #2. Multiple level inheritance\n",
    "    def Feature_1(self):\n",
    "        print(\"Feature_1_is working\")\n",
    "\n",
    "    def Feature_2(self):\n",
    "        print(\"Feature_2_is working\")\n",
    "\n",
    "class B(A):\n",
    "    def Feature_3(self):\n",
    "        print(\"Feature_3_is working\")\n",
    "\n",
    "    def Feature_4(self):\n",
    "        print(\"Feature_4_is working\")\n",
    "\n",
    "class C(B):\n",
    "    def Feature_5(self):\n",
    "        print(\"Feature_5_is working\")\n",
    "\n",
    "    def Feature_6(self):\n",
    "        print(\"Feature_6_is working\")\n",
    "\n",
    "a1 = A()\n",
    "a1.Feature_1()\n",
    "a1.Feature_2()\n",
    "\n",
    "b1 = B()\n",
    "b1.Feature_3()\n",
    "b1.Feature_4()\n",
    "\n",
    "c1 = C()\n",
    "c1.Feature_5()\n",
    "c1.Feature_6()\n"
   ]
  },
  {
   "cell_type": "code",
   "execution_count": 16,
   "metadata": {},
   "outputs": [
    {
     "name": "stdout",
     "output_type": "stream",
     "text": [
      "Feature_1_is working\n",
      "Feature_2_is working\n",
      "Feature_3_is working\n",
      "Feature_4_is working\n",
      "Feature_5_is working\n",
      "Feature_6_is working\n"
     ]
    }
   ],
   "source": [
    "class A: #3. Multiple  inheritance\n",
    "    def Feature_1(self):\n",
    "        print(\"Feature_1_is working\")\n",
    "\n",
    "    def Feature_2(self):\n",
    "        print(\"Feature_2_is working\")\n",
    "\n",
    "class B:\n",
    "    def Feature_3(self):\n",
    "        print(\"Feature_3_is working\")\n",
    "\n",
    "    def Feature_4(self):\n",
    "        print(\"Feature_4_is working\")\n",
    "\n",
    "class C(A,B):\n",
    "    def Feature_5(self):\n",
    "        print(\"Feature_5_is working\")\n",
    "\n",
    "    def Feature_6(self):\n",
    "        print(\"Feature_6_is working\")\n",
    "\n",
    "a1 = A()\n",
    "a1.Feature_1()\n",
    "a1.Feature_2()\n",
    "\n",
    "b1 = B()\n",
    "b1.Feature_3() # Feature_1 not get only b\n",
    "b1.Feature_4()\n",
    "\n",
    "c1 = C()\n",
    "c1.Feature_5()# Feature_1  get include A,B\n",
    "c1.Feature_6()\n"
   ]
  },
  {
   "cell_type": "markdown",
   "metadata": {},
   "source": [
    "### 2.8 Constructor in inheritance python"
   ]
  },
  {
   "cell_type": "code",
   "execution_count": 17,
   "metadata": {},
   "outputs": [
    {
     "name": "stdout",
     "output_type": "stream",
     "text": [
      "in B init\n",
      "-----------------------------------------\n",
      "in B init\n",
      "in C init\n",
      "-----------------------------------------\n",
      "in B init\n",
      "in D init\n"
     ]
    },
    {
     "data": {
      "text/plain": [
       "<bound method B.Feature_3 of <__main__.D object at 0x000002308F1883B0>>"
      ]
     },
     "execution_count": 17,
     "metadata": {},
     "output_type": "execute_result"
    }
   ],
   "source": [
    "class A: \n",
    "\n",
    "    def __init__(self):\n",
    "        print(\"in A init\")\n",
    "\n",
    "    def Feature_1(self):\n",
    "        print(\"Feature_1_is working\")\n",
    "\n",
    "    def Feature_2(self):\n",
    "        print(\"Feature_2_is working\")\n",
    "\n",
    "class B(A): \n",
    "\n",
    "    def __init__(self):\n",
    "        print(\"in B init\")\n",
    "\n",
    "    def Feature_3(self):\n",
    "        print(\"Feature_3_is working\")\n",
    "\n",
    "    def Feature_4(self):\n",
    "        print(\"Feature_4_is working\")\n",
    "\n",
    "class C(B): \n",
    "\n",
    "    def __init__(self):\n",
    "        super().__init__()\n",
    "        print(\"in C init\")\n",
    "\n",
    "    def Feature_5(self):\n",
    "        print(\"Feature_5_is working\")\n",
    "\n",
    "    def Feature_6(self):\n",
    "        print(\"Feature_6_is working\")\n",
    "\n",
    "class D(B,A): \n",
    "\n",
    "    def __init__(self):\n",
    "        super().__init__()\n",
    "        print(\"in D init\")\n",
    "\n",
    "    \n",
    "\n",
    "a1 = B() # call both init A and B 1st A then go to B\n",
    "\n",
    "print(\"-----------------------------------------\")\n",
    "\n",
    "C1 = C() # 1st go to B super init then c init\n",
    "\n",
    "print(\"-----------------------------------------\")\n",
    "\n",
    "D1 = D() # left side show , B 1st and C , not show all A,B,D\n",
    "D1.Feature_3"
   ]
  },
  {
   "cell_type": "markdown",
   "metadata": {},
   "source": [
    "### 2.9 ploymorphism in python theory (many forms)"
   ]
  },
  {
   "cell_type": "markdown",
   "metadata": {},
   "source": [
    "### 2.9.1 Duck typing"
   ]
  },
  {
   "cell_type": "code",
   "execution_count": 18,
   "metadata": {},
   "outputs": [
    {
     "name": "stdout",
     "output_type": "stream",
     "text": [
      "Spell check\n",
      "Convention check\n",
      "Compiling\n",
      "Rinning\n"
     ]
    }
   ],
   "source": [
    "class pyCharm:\n",
    "\n",
    "    def execute (self):\n",
    "        return(\"compiling \", \"Running\")\n",
    "\n",
    "class My_Editor:\n",
    "\n",
    "    def execute (self):\n",
    "        print(\"Spell check\")\n",
    "        print(\"Convention check\")\n",
    "        print(\"Compiling\")\n",
    "        print(\"Rinning\")\n",
    "\n",
    "class laptop:\n",
    "    def code (self,ide):\n",
    "        ide.execute()\n",
    "\n",
    "\n",
    "ide = My_Editor()\n",
    "\n",
    "lap1  = laptop()\n",
    "lap1.code(ide)"
   ]
  },
  {
   "cell_type": "markdown",
   "metadata": {},
   "source": [
    "### 2.10 Operator overloading"
   ]
  },
  {
   "cell_type": "code",
   "execution_count": 19,
   "metadata": {},
   "outputs": [
    {
     "name": "stdout",
     "output_type": "stream",
     "text": [
      "30\n",
      "30\n",
      "ABCXYZ\n"
     ]
    }
   ],
   "source": [
    "a = 10\n",
    "b = 20 \n",
    "c = a + b\n",
    "\n",
    "d = \"ABC\"\n",
    "e = \"XYZ\"\n",
    "\n",
    "print(c)\n",
    "print(int.__add__(a,b)) # magic methods\n",
    "print(str.__add__(d,e))\n",
    "\n"
   ]
  },
  {
   "cell_type": "code",
   "execution_count": 24,
   "metadata": {},
   "outputs": [
    {
     "name": "stdout",
     "output_type": "stream",
     "text": [
      "S1 wings\n",
      "118\n",
      "    58  69  \n",
      "    60  65  \n"
     ]
    }
   ],
   "source": [
    "class students:\n",
    "\n",
    "    def __init__(self,M1,M2):\n",
    "        self.M1 = M1\n",
    "        self.M2 = M2\n",
    "\n",
    "    def __add__(self,other):\n",
    "        M1 = self.M1 + other.M1\n",
    "        M2 = self.M2 + other.M2\n",
    "        S3 = students(M1,M2)\n",
    "        return S3\n",
    "\n",
    "    def __gt__(self,other): # gt graterthan , ge graterthan equalto\n",
    "        r1 = self.M1 + self.M2\n",
    "        r2 = other.M1 + other.M2\n",
    "        if r1 > r2 :\n",
    "            return True\n",
    "        else :\n",
    "            return False\n",
    "\n",
    "    def __str__(self):\n",
    "        return '    {}  {}  '.format(self.M1,self.M2)\n",
    "\n",
    "\n",
    "\n",
    "S1 = students(58,69)\n",
    "S2 = students(60,65)\n",
    "S3 = S1 + S2\n",
    "\n",
    "if S1 > S2 :\n",
    "    print(\"S1 wings\")\n",
    "else:\n",
    "    print(\"S2 winghs\")\n",
    "\n",
    "print(S3.M1)\n",
    "\n",
    "print(S1.__str__())\n",
    "print(S2.__str__())"
   ]
  },
  {
   "cell_type": "code",
   "execution_count": 21,
   "metadata": {},
   "outputs": [
    {
     "name": "stdout",
     "output_type": "stream",
     "text": [
      "9\n"
     ]
    }
   ],
   "source": [
    "a = 9\n",
    "print(a.__str__())"
   ]
  },
  {
   "cell_type": "markdown",
   "metadata": {},
   "source": [
    "### 2.11 methode overloading and methode overriding"
   ]
  },
  {
   "cell_type": "code",
   "execution_count": 31,
   "metadata": {},
   "outputs": [
    {
     "name": "stdout",
     "output_type": "stream",
     "text": [
      "14\n"
     ]
    }
   ],
   "source": [
    "# methode overloading\n",
    "class students:\n",
    "\n",
    "    def __init__(self,M1,M2):\n",
    "        self.M1 = M1\n",
    "        self.M2 = M2\n",
    "\n",
    "    def sum (self,a = 0,b = 0, c = 0): # sum(5) or sum(5,7) or sum(8,9,5) all type are work , other wise error in this case error above 3 digits\n",
    "        s = 0\n",
    "        if a!=0 and b != 0 and c != 0:\n",
    "            s = a+b+c\n",
    "        elif a != 0 and b !=0 :\n",
    "            s = a+b\n",
    "        else:\n",
    "            s = a\n",
    "\n",
    "        return s\n",
    "\n",
    "S1 = students(12,25)\n",
    "print(S1.sum(5,5,4))\n",
    "\n"
   ]
  },
  {
   "cell_type": "code",
   "execution_count": 33,
   "metadata": {},
   "outputs": [
    {
     "name": "stdout",
     "output_type": "stream",
     "text": [
      "In B show\n"
     ]
    }
   ],
   "source": [
    "# methode overriding\n",
    "\n",
    "class A :\n",
    "    def show(self):\n",
    "        print (\"In A show\")\n",
    "\n",
    "class B(A): # this include A and B , B override A , 1st output is B show\n",
    "    def show (self):\n",
    "        print(\"In B show\")\n",
    "\n",
    "Hello = B()\n",
    "Hello.show()\n"
   ]
  },
  {
   "cell_type": "markdown",
   "metadata": {},
   "source": [
    "# 3"
   ]
  },
  {
   "cell_type": "code",
   "execution_count": 23,
   "metadata": {},
   "outputs": [],
   "source": [
    "class Accounting_service:\n",
    "    company = \"Grace valley Educational institutions\"\n",
    "    Departments = \"Finance\"\n",
    "    Price = 45000\n",
    "    Head = \"Ihsan Cfa\"\n",
    "    def displaydetails(self):\n",
    "        print(\"Enhancing finance automations, improving efficiency, and ensuring accuracy\")\n",
    "        \n",
    "a = Accounting_service\n",
    "b = Accounting_service()\n",
    "c = Accounting_service()\n",
    "\n"
   ]
  },
  {
   "cell_type": "code",
   "execution_count": 24,
   "metadata": {},
   "outputs": [
    {
     "name": "stdout",
     "output_type": "stream",
     "text": [
      "year : 2024\n",
      "name : John Doe\n",
      "age : 30\n",
      "place : Berlin\n",
      "year : 2024\n",
      "name : Jane Smith\n",
      "age : 27\n",
      "place : Paris\n",
      "_______________________________________________________\n",
      "year : 2025\n",
      "name : John Doe\n",
      "age : 31\n",
      "place : Berlin\n",
      "year : 2025\n",
      "name : Jane Smith\n",
      "age : 28\n",
      "place : Paris\n",
      "_______________________________________________________\n",
      "year : 2026\n",
      "name : John Doe\n",
      "age : 32\n",
      "place : Amsterdam\n",
      "year : 2026\n",
      "name : Jane Smith\n",
      "age : 29\n",
      "place : London\n"
     ]
    }
   ],
   "source": [
    "class FinanceAutomationTeamMembers:\n",
    "    year = 2024\n",
    "    def __init__(self, name, age, place):\n",
    "        self.name = name\n",
    "        self.age = age\n",
    "        self.place = place\n",
    "\n",
    "    def add_age(self):\n",
    "        self.age = self.age + 1\n",
    "\n",
    "    def relocate(self, place):\n",
    "        self.place = place\n",
    "\n",
    "    def display(self):\n",
    "        print(\"year : \" + str(FinanceAutomationTeamMembers.year))\n",
    "        print(\"name : \" + self.name)\n",
    "        print(\"age : \" + str(self.age))\n",
    "        print(\"place : \" + self.place)\n",
    "\n",
    "    @classmethod\n",
    "    def add_year(cls):\n",
    "        cls.year = cls.year + 1\n",
    "\n",
    "# Creating new dummy data\n",
    "x = FinanceAutomationTeamMembers(\"John Doe\", 30, \"Berlin\")\n",
    "y = FinanceAutomationTeamMembers(\"Jane Smith\", 27, \"Paris\")\n",
    "\n",
    "x.display()\n",
    "y.display()\n",
    "\n",
    "print(\"_______________________________________________________\")\n",
    "\n",
    "FinanceAutomationTeamMembers.year = FinanceAutomationTeamMembers.year + 1\n",
    "x.add_age()\n",
    "y.add_age()\n",
    "\n",
    "x.display()\n",
    "y.display()\n",
    "\n",
    "print(\"_______________________________________________________\")\n",
    "\n",
    "FinanceAutomationTeamMembers.add_year()\n",
    "x.add_age()\n",
    "y.add_age()\n",
    "x.relocate(\"Amsterdam\")\n",
    "y.relocate(\"London\")\n",
    "\n",
    "x.display()\n",
    "y.display()\n"
   ]
  },
  {
   "cell_type": "code",
   "execution_count": null,
   "metadata": {},
   "outputs": [],
   "source": []
  }
 ],
 "metadata": {
  "kernelspec": {
   "display_name": "base",
   "language": "python",
   "name": "python3"
  },
  "language_info": {
   "codemirror_mode": {
    "name": "ipython",
    "version": 3
   },
   "file_extension": ".py",
   "mimetype": "text/x-python",
   "name": "python",
   "nbconvert_exporter": "python",
   "pygments_lexer": "ipython3",
   "version": "3.12.4"
  }
 },
 "nbformat": 4,
 "nbformat_minor": 2
}
